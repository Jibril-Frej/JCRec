{
 "cells": [
  {
   "cell_type": "code",
   "execution_count": 12,
   "metadata": {},
   "outputs": [],
   "source": [
    "import numpy as np\n",
    "import gymnasium as gym\n",
    "from gymnasium import spaces\n",
    "import random\n",
    "import sys\n",
    "sys.path.append('../src/recommendation')\n",
    "\n",
    "from Dataset import Dataset"
   ]
  },
  {
   "cell_type": "code",
   "execution_count": 3,
   "metadata": {},
   "outputs": [],
   "source": [
    "dataset = Dataset('../data/synthetic/')"
   ]
  },
  {
   "cell_type": "code",
   "execution_count": 5,
   "metadata": {},
   "outputs": [],
   "source": [
    "class CourseRecEnv(gym.Env):\n",
    "\n",
    "    def __init__(self, dataset, min_skills=0, max_skills=10, threshold = 0.8):\n",
    "        self.dataset = dataset\n",
    "        self.nb_skills = len(dataset.skills)\n",
    "        self.max_level = max(dataset.mastery_levels)\n",
    "        self.nb_courses = len(dataset.courses)\n",
    "        self.min_skills = min_skills\n",
    "        self.max_skills = max_skills\n",
    "        self.threshold = threshold\n",
    "        self.observation_space = gym.spaces.Box(\n",
    "            low=0, \n",
    "            high=self.max_level, \n",
    "            shape=(self.nb_skills,),\n",
    "            dtype=np.int32\n",
    "        )\n",
    "\n",
    "        self.action_space = gym.spaces.Discrete(self.nb_courses)\n",
    "\n",
    "    def _get_obs(self):\n",
    "        return {\"agent\": self._agent_skills}\n",
    "\n",
    "    def _get_info(self):\n",
    "    return {\n",
    "        \"attractiveness\": self.dataset.get_nb_applicable_jobs(self._agent_skills, threshold=self.threshold)\n",
    "    }\n",
    "\n",
    "    def reset(self, seed=None, options=None):\n",
    "        # We need the following line to seed self.np_random\n",
    "        super().reset(seed=seed)\n",
    "\n",
    "        # Choose the number of skills the agent has randomly\n",
    "        n_skills = random.randint(self.min_skills, self.max_skills)\n",
    "\n",
    "\n",
    "        self._agent_skills = {\"possessed_skills\":{\n",
    "            skill: level\n",
    "            for skill, level in zip(\n",
    "                np.random.choice(\n",
    "                    self.dataset.skills, n_skills, replace=False\n",
    "                ),\n",
    "                np.random.choice(\n",
    "                    self.dataset.mastery_levels,\n",
    "                    n_skills,\n",
    "                    replace=True,\n",
    "                ),\n",
    "            )\n",
    "        }}\n",
    "        observation = self._get_obs()\n",
    "        info = self._get_info()\n",
    "\n",
    "        return observation, info\n",
    "        \n"
   ]
  },
  {
   "cell_type": "code",
   "execution_count": 7,
   "metadata": {},
   "outputs": [],
   "source": [
    "env = CourseRecEnv(dataset)"
   ]
  },
  {
   "cell_type": "code",
   "execution_count": 35,
   "metadata": {},
   "outputs": [
    {
     "data": {
      "text/plain": [
       "array([1, 0, 1, 1, 1, 1, 2, 1, 0, 2, 1, 1, 2, 0, 0, 2, 0, 2, 0, 2, 0, 0,\n",
       "       0, 0, 1, 0, 0, 0, 2, 2, 1, 0, 2, 0, 0, 1, 2, 2, 1, 0, 1, 2, 2, 0,\n",
       "       0, 1, 2, 0, 1, 2, 1, 0, 2, 2, 0, 2, 2, 1, 2, 1, 1, 2, 1, 0, 1, 0,\n",
       "       1, 1, 2, 1, 0, 1, 2, 1, 2, 2, 2, 2, 2, 0, 0, 2, 1, 2, 1, 1, 0, 0,\n",
       "       2, 1, 2, 1, 2, 2, 2, 0, 2, 0, 1, 1], dtype=int32)"
      ]
     },
     "execution_count": 35,
     "metadata": {},
     "output_type": "execute_result"
    }
   ],
   "source": [
    "env.observation_space.sample()"
   ]
  },
  {
   "cell_type": "code",
   "execution_count": 34,
   "metadata": {},
   "outputs": [
    {
     "name": "stdout",
     "output_type": "stream",
     "text": [
      "1 3 0 2.9999999999999996\n",
      "2 8 0 7.999999999999999\n",
      "3 22 22 21.999999999999996\n",
      "4 60 60 59.999999999999986\n",
      "5 164 164 163.99999999999997\n",
      "6 448 448 447.9999999999999\n",
      "7 1224 1224 1223.9999999999995\n",
      "8 3344 3344 3343.999999999999\n",
      "9 9136 9136 9135.999999999995\n"
     ]
    }
   ],
   "source": [
    "from itertools import product\n",
    "import math\n",
    "sequences = []\n",
    "\n",
    "def solution(n):\n",
    "    return (1/2 + 1/math.sqrt(3))*(1 + math.sqrt(3))**n + (1/2 - 1/math.sqrt(3))*(1 - math.sqrt(3))**n\n",
    "\n",
    "for n in range(1, 10):\n",
    "    counter = 0\n",
    "    for string in product('012', repeat=n):\n",
    "        binary_string = ''.join(string)\n",
    "        if \"00\" not in binary_string:\n",
    "            counter += 1\n",
    "    sequences.append(counter)\n",
    "    counter2 = 0\n",
    "    if len(sequences) > 2:\n",
    "        counter2 = 2*sequences[-2] + 2*sequences[-3]\n",
    "    print(n, counter, counter2, solution(n))\n",
    "    "
   ]
  },
  {
   "cell_type": "code",
   "execution_count": 79,
   "metadata": {},
   "outputs": [
    {
     "data": {
      "text/plain": [
       "0"
      ]
     },
     "execution_count": 79,
     "metadata": {},
     "output_type": "execute_result"
    }
   ],
   "source": [
    " n_skills = random.randint(1, 5)\n",
    " a =  {\n",
    "    \"possessed_skills\":{\n",
    "            skill: level\n",
    "            for skill, level in zip(\n",
    "                np.random.choice(\n",
    "                    dataset.skills, n_skills, replace=False\n",
    "                ),\n",
    "                np.random.choice(\n",
    "                    dataset.mastery_levels,\n",
    "                    n_skills,\n",
    "                    replace=True,\n",
    "                ),\n",
    "            )\n",
    "         }     \n",
    "    }\n",
    "dataset.get_nb_applicable_jobs(a, threshold=0.8)"
   ]
  },
  {
   "cell_type": "code",
   "execution_count": 59,
   "metadata": {},
   "outputs": [
    {
     "data": {
      "text/plain": [
       "0"
      ]
     },
     "execution_count": 59,
     "metadata": {},
     "output_type": "execute_result"
    }
   ],
   "source": []
  }
 ],
 "metadata": {
  "kernelspec": {
   "display_name": "sm4cr",
   "language": "python",
   "name": "python3"
  },
  "language_info": {
   "codemirror_mode": {
    "name": "ipython",
    "version": 3
   },
   "file_extension": ".py",
   "mimetype": "text/x-python",
   "name": "python",
   "nbconvert_exporter": "python",
   "pygments_lexer": "ipython3",
   "version": "3.10.13"
  }
 },
 "nbformat": 4,
 "nbformat_minor": 2
}
