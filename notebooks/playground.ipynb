{
 "cells": [
  {
   "cell_type": "code",
   "execution_count": 3,
   "metadata": {},
   "outputs": [],
   "source": [
    "import numpy as np\n",
    "import gymnasium as gym\n",
    "from gymnasium import spaces\n",
    "import random\n",
    "import sys\n",
    "import json\n",
    "sys.path.append('../src/recommendation')\n",
    "import matchings\n",
    "\n",
    "from SyntheticDataset import SyntheticDataset\n",
    "from stable_baselines3.common.env_checker import check_env\n",
    "from stable_baselines3 import DQN, A2C, PPO, SAC, TD3, DDPG\n",
    "\n",
    "from stable_baselines3.common.callbacks import BaseCallback\n",
    "\n",
    "from CourseRecEnv import CourseRecEnv, EvaluateCallback"
   ]
  },
  {
   "cell_type": "code",
   "execution_count": 2,
   "metadata": {},
   "outputs": [],
   "source": [
    "dataset = SyntheticDataset('../data/synthetic/')"
   ]
  },
  {
   "cell_type": "code",
   "execution_count": 3,
   "metadata": {},
   "outputs": [
    {
     "name": "stdout",
     "output_type": "stream",
     "text": [
      "<class 'stable_baselines3.dqn.dqn.DQN'>\n",
      "1000 3.38\n",
      "<class 'stable_baselines3.a2c.a2c.A2C'>\n",
      "1000 3.9\n",
      "<class 'stable_baselines3.ppo.ppo.PPO'>\n",
      "1000 3.3\n",
      "2000 3.3\n"
     ]
    }
   ],
   "source": [
    "total_steps = 1000\n",
    "eval_freq = 1000\n",
    "\n",
    "SB_models = [(DQN, {\"policy\": \"MlpPolicy\"}),\n",
    "    (A2C, {\"policy\": \"MlpPolicy\", \"device\":'cpu'} ),\n",
    "    (PPO, {\"policy\": \"MlpPolicy\"})]\n",
    "for SB_model, kwargs in SB_models:\n",
    "    train_env = CourseRecEnv(dataset, k=5)\n",
    "    eval_env = CourseRecEnv(dataset, k=5)    \n",
    "    print(SB_model)\n",
    "    \n",
    "    eval_callback = EvaluateCallback(eval_env, eval_freq=eval_freq)\n",
    "\n",
    "    model = SB_model(env = train_env, verbose=0, **kwargs)\n",
    "    model.learn(total_timesteps=total_steps, callback=eval_callback)"
   ]
  },
  {
   "cell_type": "code",
   "execution_count": 21,
   "metadata": {},
   "outputs": [],
   "source": [
    "import csv\n",
    "import sys\n",
    "import json\n",
    "import pandas as pd\n",
    "\n",
    "from collections import Counter\n",
    "\n",
    "sys.path.append('../src/recommendation')\n",
    "\n",
    "from Dataset import Dataset"
   ]
  },
  {
   "cell_type": "code",
   "execution_count": 5,
   "metadata": {},
   "outputs": [],
   "source": [
    "dataset = Dataset(\"../config/dataset_V1.yaml\")"
   ]
  },
  {
   "cell_type": "code",
   "execution_count": 34,
   "metadata": {},
   "outputs": [],
   "source": [
    "cvs = json.load(open(\"../data/V1/kaggle_cvs.json\"))\n",
    "jobs = json.load(open(\"../data/V1/tech_jobs_english.json\"))\n",
    "courses = json.load(open(\"../data/V1/coco_courses_tech_english.json\"))"
   ]
  },
  {
   "cell_type": "code",
   "execution_count": 14,
   "metadata": {},
   "outputs": [
    {
     "name": "stdout",
     "output_type": "stream",
     "text": [
      "32138 ['participated in requirements gathering and design development meetings', 'reviewed code and debugged errors to improve performance', 'coordinated with systems partners to finalize designs and confirm requirements', 'consistently met deadlines and requirements for all production work orders', 'collaborated with other developers to identify and alleviate the number of bugs in the software', 'provided maintenance and development of bug fixes and patch sets for existing applications']\n"
     ]
    }
   ],
   "source": [
    "mastery_levels = set()\n",
    "for key,cv in cvs.items():\n",
    "    for skill,level in cv:\n",
    "        if type(level) != str:\n",
    "            print(key,level)\n",
    "            continue\n",
    "\n",
    "        mastery_levels.add(level)"
   ]
  },
  {
   "cell_type": "code",
   "execution_count": 28,
   "metadata": {},
   "outputs": [
    {
     "name": "stdout",
     "output_type": "stream",
     "text": [
      "32138 ['participated in requirements gathering and design development meetings', 'reviewed code and debugged errors to improve performance', 'coordinated with systems partners to finalize designs and confirm requirements', 'consistently met deadlines and requirements for all production work orders', 'collaborated with other developers to identify and alleviate the number of bugs in the software', 'provided maintenance and development of bug fixes and patch sets for existing applications']\n"
     ]
    }
   ],
   "source": [
    "cv_mastery_levels = Counter()\n",
    "for key,cv in cvs.items():\n",
    "    for skill,level in cv:\n",
    "        if type(level) != str:\n",
    "            print(key,level)\n",
    "            continue\n",
    "\n",
    "        cv_mastery_levels[level] += 1"
   ]
  },
  {
   "cell_type": "code",
   "execution_count": 29,
   "metadata": {},
   "outputs": [
    {
     "data": {
      "text/plain": [
       "[('unknown', 15876),\n",
       " ('intermediate', 325),\n",
       " ('expert', 246),\n",
       " ('beginner', 163),\n",
       " ('basics', 102),\n",
       " ('less than 1 year', 69),\n",
       " ('basic', 58),\n",
       " ('12 months experience', 17),\n",
       " ('10 months', 17),\n",
       " ('advanced', 10)]"
      ]
     },
     "execution_count": 29,
     "metadata": {},
     "output_type": "execute_result"
    }
   ],
   "source": [
    "cv_mastery_levels.most_common(10)"
   ]
  },
  {
   "cell_type": "code",
   "execution_count": 31,
   "metadata": {},
   "outputs": [],
   "source": [
    "job_mastery_levels = Counter()\n",
    "for key,job in jobs.items():\n",
    "    for skill,level in job:\n",
    "        if type(level) != str:\n",
    "            print(key,level)\n",
    "            continue\n",
    "\n",
    "        job_mastery_levels[level] += 1"
   ]
  },
  {
   "cell_type": "code",
   "execution_count": 32,
   "metadata": {},
   "outputs": [
    {
     "data": {
      "text/plain": [
       "[('unknown', 75127),\n",
       " ('expert', 41527),\n",
       " ('intermediate', 14897),\n",
       " ('beginner', 738),\n",
       " ('advanced', 81),\n",
       " ('fluent', 69),\n",
       " ('good', 42),\n",
       " ('intermÃ©diaire', 29),\n",
       " ('proficient', 17),\n",
       " ('advantageous', 15)]"
      ]
     },
     "execution_count": 32,
     "metadata": {},
     "output_type": "execute_result"
    }
   ],
   "source": [
    "job_mastery_levels.most_common(10)"
   ]
  },
  {
   "cell_type": "code",
   "execution_count": 40,
   "metadata": {},
   "outputs": [
    {
     "name": "stdout",
     "output_type": "stream",
     "text": [
      "50563 ['organize slides into sections', 'edit movie clips', 'apply animation effects', 'learn how to broadcast slide shows']\n",
      "653868 [{'view name': 'courseskills', 'definition': 'select courses.coursename, skills.skillname, skills.masterylevel from courses inner join skills on courses.courseid = skills.courseid'}]\n",
      "678298 ['quick tables', 'tables formatting']\n",
      "678298 ['insert clip art']\n",
      "678298 ['insert shapes', 'insert shapes and edit']\n",
      "737700 ['internet connection', 'up to date web browser']\n",
      "790908 ['computer', 'internet connection', 'jdk (java development kit)', 'netbeans ide or any other ide (preferably netbeans)', 'mysql wamp server or xamp server', 'jar files (downloadable from internet)']\n"
     ]
    }
   ],
   "source": [
    "to_aquire_course_mastery_levels = Counter()\n",
    "required_course_mastery_levels = Counter()\n",
    "for key, course in courses.items():\n",
    "    if \"to_acquire\" in course:\n",
    "        for skill, level in course[\"to_acquire\"]:\n",
    "            if type(level) != str:\n",
    "                print(key, level)\n",
    "                continue\n",
    "            to_aquire_course_mastery_levels[level] += 1\n",
    "    if \"required\" in course:\n",
    "        for skill, level in course[\"required\"]:\n",
    "            if type(level) != str:\n",
    "                print(key, level)\n",
    "                continue\n",
    "            required_course_mastery_levels[level] += 1"
   ]
  },
  {
   "cell_type": "code",
   "execution_count": 41,
   "metadata": {},
   "outputs": [
    {
     "data": {
      "text/plain": [
       "[('unknown', 219615),\n",
       " ('beginner', 30651),\n",
       " ('intermediate', 5513),\n",
       " ('expert', 2151),\n",
       " ('advanced', 380),\n",
       " ('basic', 45),\n",
       " ('beginner to advanced', 38),\n",
       " ('beginner to intermediate', 22),\n",
       " ('beginner to expert', 15),\n",
       " ('beginner or intermediate', 14)]"
      ]
     },
     "execution_count": 41,
     "metadata": {},
     "output_type": "execute_result"
    }
   ],
   "source": [
    "to_aquire_course_mastery_levels.most_common(10)"
   ]
  },
  {
   "cell_type": "code",
   "execution_count": 42,
   "metadata": {},
   "outputs": [
    {
     "data": {
      "text/plain": [
       "[('unknown', 17800),\n",
       " ('beginner', 8289),\n",
       " ('intermediate', 1571),\n",
       " ('expert', 175),\n",
       " ('basic', 79),\n",
       " ('advanced', 44),\n",
       " ('beginner to intermediate', 29),\n",
       " ('modest', 20),\n",
       " ('beginner or experienced', 16),\n",
       " ('beginner/intermediate', 15)]"
      ]
     },
     "execution_count": 42,
     "metadata": {},
     "output_type": "execute_result"
    }
   ],
   "source": [
    "required_course_mastery_levels.most_common(10)"
   ]
  },
  {
   "cell_type": "code",
   "execution_count": 46,
   "metadata": {},
   "outputs": [],
   "source": [
    "mastery_levels = {'beginner': 1, 'intermediate': 2, 'expert':3, \"unknown\": 2}\n",
    "json.dump(mastery_levels, open(\"../data/V1/mastery_levels.json\", 'w'), indent=4)"
   ]
  }
 ],
 "metadata": {
  "kernelspec": {
   "display_name": "sm4cr",
   "language": "python",
   "name": "python3"
  },
  "language_info": {
   "codemirror_mode": {
    "name": "ipython",
    "version": 3
   },
   "file_extension": ".py",
   "mimetype": "text/x-python",
   "name": "python",
   "nbconvert_exporter": "python",
   "pygments_lexer": "ipython3",
   "version": "3.10.13"
  }
 },
 "nbformat": 4,
 "nbformat_minor": 2
}
