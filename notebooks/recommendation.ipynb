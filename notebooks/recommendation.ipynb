{
 "cells": [
  {
   "cell_type": "code",
   "execution_count": 5,
   "metadata": {},
   "outputs": [],
   "source": [
    "import json"
   ]
  },
  {
   "cell_type": "code",
   "execution_count": 2,
   "metadata": {},
   "outputs": [],
   "source": [
    "results_path = \"../data/synthetic/results/\""
   ]
  },
  {
   "cell_type": "code",
   "execution_count": 3,
   "metadata": {},
   "outputs": [
    {
     "name": "stdout",
     "output_type": "stream",
     "text": [
      "k = 1\n",
      "\tGreedy  : 11.34 jobs, 0.39 attractiveness\n",
      "\tOptimal : 11.34 jobs, 0.39 attractiveness\n",
      "\tIntersection: 100.00%\n",
      "k = 2\n",
      "\tGreedy  : 15.70 jobs, 0.44 attractiveness\n",
      "\tOptimal : 15.80 jobs, 0.44 attractiveness\n",
      "\tIntersection: 48.00%\n",
      "k = 3\n",
      "\tGreedy  : 20.32 jobs, 0.50 attractiveness\n",
      "\tOptimal : 20.66 jobs, 0.50 attractiveness\n",
      "\tIntersection: 18.00%\n",
      "k = 4\n",
      "\tGreedy  : 25.06 jobs, 0.54 attractiveness\n",
      "\tOptimal : 26.04 jobs, 0.55 attractiveness\n",
      "\tIntersection: 0.00%\n"
     ]
    }
   ],
   "source": [
    "for k in range(1,5):\n",
    "    optimal = json.load(open(results_path + \"optimal_\" + str(k) + \".json\"))\n",
    "    greedy = json.load(open(results_path + \"greedy_\" + str(k) + \".json\"))\n",
    "    intersection = 0\n",
    "    for id_l,rec in greedy[\"recommendations\"].items():\n",
    "        if rec==optimal[\"recommendations\"][id_l]:\n",
    "            intersection += 1\n",
    "    intersection /= len(greedy[\"recommendations\"]) \n",
    "    print(f'k = {k}')\n",
    "    print(f'\\tGreedy  : {greedy[\"new_applicable_jobs\"]:.2f} jobs, {greedy[\"new_attractiveness\"]:.2f} attractiveness')\n",
    "    print(f'\\tOptimal : {optimal[\"new_applicable_jobs\"]:.2f} jobs, {optimal[\"new_attractiveness\"]:.2f} attractiveness')\n",
    "    print(f'\\tIntersection: {100*intersection:.2f}%')\n"
   ]
  }
 ],
 "metadata": {
  "kernelspec": {
   "display_name": "proto",
   "language": "python",
   "name": "python3"
  },
  "language_info": {
   "codemirror_mode": {
    "name": "ipython",
    "version": 3
   },
   "file_extension": ".py",
   "mimetype": "text/x-python",
   "name": "python",
   "nbconvert_exporter": "python",
   "pygments_lexer": "ipython3",
   "version": "3.9.13"
  },
  "orig_nbformat": 4
 },
 "nbformat": 4,
 "nbformat_minor": 2
}
